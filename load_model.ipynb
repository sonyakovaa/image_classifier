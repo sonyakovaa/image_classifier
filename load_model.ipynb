{
 "cells": [
  {
   "cell_type": "code",
   "execution_count": 1,
   "id": "0c7e3b55",
   "metadata": {},
   "outputs": [],
   "source": [
    "import matplotlib.pyplot as plt\n",
    "import numpy as np\n",
    "from PIL import Image\n",
    "import os\n",
    "import shutil\n",
    "from tensorflow import keras"
   ]
  },
  {
   "cell_type": "code",
   "execution_count": 2,
   "id": "5bd99fc1",
   "metadata": {},
   "outputs": [],
   "source": [
    "MODEL_PATH = 'E:/Projects/chubrik-kyrsach/saves/MobileNetV3Large'\n",
    "INPUT_IMAGES_DIR = 'E:/Projects/chubrik-kyrsach/datasets/art-mini/validation'\n",
    "OUTPUT_IMAGES_DIR = 'E:/Projects/chubrik-kyrsach/classification_results'"
   ]
  },
  {
   "cell_type": "code",
   "execution_count": 3,
   "id": "5043cb1f",
   "metadata": {},
   "outputs": [
    {
     "name": "stdout",
     "output_type": "stream",
     "text": [
      "Found 46519 files belonging to 13 classes.\n"
     ]
    }
   ],
   "source": [
    "BATCH_SIZE = 32\n",
    "IMG_SIZE = (224, 224)\n",
    "\n",
    "dataset = keras.utils.image_dataset_from_directory(INPUT_IMAGES_DIR, batch_size=BATCH_SIZE, image_size=IMG_SIZE)\n",
    "classes_num = len(dataset.class_names)"
   ]
  },
  {
   "cell_type": "code",
   "execution_count": 4,
   "id": "727c57d1",
   "metadata": {},
   "outputs": [],
   "source": [
    "data_augmentation = keras.Sequential([keras.layers.RandomFlip('horizontal'), keras.layers.RandomRotation(0.2)])\n",
    "preprocess_input = keras.applications.mobilenet_v3.preprocess_input\n",
    "rescale = keras.layers.Rescaling(1./127.5, offset=-1)\n",
    "IMG_SHAPE = IMG_SIZE + (3,)\n",
    "base_model = keras.applications.MobileNetV3Large(input_shape=IMG_SHAPE, include_top=False, weights='imagenet')\n",
    "image_batch, label_batch = next(iter(dataset))\n",
    "feature_batch = base_model(image_batch)\n",
    "base_model.trainable = False\n",
    "global_average_layer = keras.layers.GlobalAveragePooling2D()\n",
    "feature_batch_average = global_average_layer(feature_batch)\n",
    "prediction_layer = keras.layers.Dense(classes_num)\n",
    "prediction_batch = prediction_layer(feature_batch_average)\n",
    "inputs = keras.Input(shape=IMG_SHAPE)\n",
    "x = data_augmentation(inputs)\n",
    "x = preprocess_input(x)\n",
    "x = base_model(x, training=False)\n",
    "x = global_average_layer(x)\n",
    "x = keras.layers.Dropout(0.2)(x)\n",
    "outputs = prediction_layer(x)\n",
    "model = keras.Model(inputs, outputs)\n",
    "model.compile()"
   ]
  },
  {
   "cell_type": "code",
   "execution_count": 5,
   "id": "edadf340",
   "metadata": {},
   "outputs": [
    {
     "data": {
      "text/plain": [
       "<tensorflow.python.training.tracking.util.CheckpointLoadStatus at 0x1ab9a18df00>"
      ]
     },
     "execution_count": 5,
     "metadata": {},
     "output_type": "execute_result"
    }
   ],
   "source": [
    "model.load_weights(MODEL_PATH)"
   ]
  },
  {
   "cell_type": "code",
   "execution_count": null,
   "id": "4cdcdb7c",
   "metadata": {},
   "outputs": [],
   "source": []
  }
 ],
 "metadata": {
  "kernelspec": {
   "display_name": "Python 3 (ipykernel)",
   "language": "python",
   "name": "python3"
  },
  "language_info": {
   "codemirror_mode": {
    "name": "ipython",
    "version": 3
   },
   "file_extension": ".py",
   "mimetype": "text/x-python",
   "name": "python",
   "nbconvert_exporter": "python",
   "pygments_lexer": "ipython3",
   "version": "3.10.0"
  }
 },
 "nbformat": 4,
 "nbformat_minor": 5
}
