{
 "cells": [
  {
   "cell_type": "code",
   "execution_count": 1,
   "id": "1461cdf5",
   "metadata": {},
   "outputs": [
    {
     "name": "stdout",
     "output_type": "stream",
     "text": [
      "TensorFlow version: 2.6.0\n"
     ]
    }
   ],
   "source": [
    "import tensorflow as tf\n",
    "import matplotlib.pyplot as plt\n",
    "from tensorflow import keras\n",
    "print(\"TensorFlow version:\", tf.__version__)"
   ]
  },
  {
   "cell_type": "code",
   "execution_count": 2,
   "id": "a1023f71",
   "metadata": {},
   "outputs": [],
   "source": [
    "import numpy as np # linear algebra\n",
    "import pandas as pd # data processing, CSV file I/O (e.g. pd.read_csv)\n",
    "\n",
    "import math, os, random, cv2\n",
    "import numpy as np, pandas as pd\n",
    "import matplotlib.pyplot as plt\n",
    "from PIL import Image"
   ]
  },
  {
   "cell_type": "code",
   "execution_count": 3,
   "id": "8195b924",
   "metadata": {},
   "outputs": [
    {
     "name": "stdout",
     "output_type": "stream",
     "text": [
      "Abstract images      : 15023\n",
      "Animal images        : 1799\n",
      "Cityspace images     : 6600\n",
      "Figurative images    : 4500\n",
      "Flower images        : 1800\n",
      "Genre images         : 14998\n",
      "Landscape images     : 15000\n",
      "Marina images        : 1800\n",
      "Mythological images  : 2100\n",
      "Portrait images      : 15000\n",
      "Religious images     : 8394\n",
      "Still Life images    : 3000\n",
      "Symbolic images      : 3000\n"
     ]
    }
   ],
   "source": [
    "BASE_PATH = 'C:/Users/sonya/PythonProjects/image_classifier/input/wikiart-gangogh-creating-art-gan/'\n",
    "abstract_paint        = os.path.join(BASE_PATH, 'abstract')\n",
    "animal_paint          = os.path.join(BASE_PATH, 'animal-painting')\n",
    "cityspace_paint       = os.path.join(BASE_PATH, 'cityscape')\n",
    "figurative_paint      = os.path.join(BASE_PATH, 'figurative')\n",
    "flower_paint_paint    = os.path.join(BASE_PATH, 'flower-painting')\n",
    "genre_painting_paint  = os.path.join(BASE_PATH, 'genre-painting')\n",
    "landscape_paint       = os.path.join(BASE_PATH, 'landscape')\n",
    "marina_paint          = os.path.join(BASE_PATH, 'marina')\n",
    "myth_paint_paint      = os.path.join(BASE_PATH, 'mythological-painting')\n",
    "portrait_paint        = os.path.join(BASE_PATH, 'portrait')\n",
    "religious_paint_paint = os.path.join(BASE_PATH, 'religious-painting')\n",
    "still_life_paint      = os.path.join(BASE_PATH, 'still-life')\n",
    "symbolic_paint        = os.path.join(BASE_PATH, 'symbolic-painting')\n",
    "\n",
    "print(f'Abstract images      : {len(os.listdir(abstract_paint))}')\n",
    "print(f'Animal images        : {len(os.listdir(animal_paint))}')\n",
    "print(f'Cityspace images     : {len(os.listdir(cityspace_paint))}')\n",
    "print(f'Figurative images    : {len(os.listdir(figurative_paint))}')\n",
    "print(f'Flower images        : {len(os.listdir(flower_paint_paint))}')\n",
    "print(f'Genre images         : {len(os.listdir(genre_painting_paint))}')\n",
    "print(f'Landscape images     : {len(os.listdir(landscape_paint))}')\n",
    "print(f'Marina images        : {len(os.listdir(marina_paint))}')\n",
    "print(f'Mythological images  : {len(os.listdir(myth_paint_paint))}')\n",
    "print(f'Portrait images      : {len(os.listdir(portrait_paint))}')\n",
    "print(f'Religious images     : {len(os.listdir(religious_paint_paint))}')\n",
    "print(f'Still Life images    : {len(os.listdir(still_life_paint))}')\n",
    "print(f'Symbolic images      : {len(os.listdir(symbolic_paint))}')"
   ]
  },
  {
   "cell_type": "code",
   "execution_count": 4,
   "id": "f7614f50",
   "metadata": {},
   "outputs": [],
   "source": [
    "permission = 224\n",
    "\n",
    "def prepare_image(path):\n",
    "    image = Image.open(path).convert('L')\n",
    "    data = np.asarray(image)\n",
    "    res_image = cv2.resize(data, dsize=(permission, permission), interpolation=cv2.INTER_CUBIC)\n",
    "    normalized_image = res_image / 255.0 # нормализация от 0 до 1\n",
    "    \n",
    "    return normalized_image"
   ]
  },
  {
   "cell_type": "code",
   "execution_count": 5,
   "id": "ecdda7e5",
   "metadata": {},
   "outputs": [],
   "source": [
    "train_images = np.empty([0,permission,permission])\n",
    "test_images = np.empty([0,permission,permission])\n",
    "validation_images = np.empty([0,permission,permission])\n",
    "train_labels = np.empty([0], dtype = int)\n",
    "test_labels = np.empty([0], dtype = int)\n",
    "validation_labels = np.empty([0], dtype = int)\n",
    "\n",
    "\n",
    "directory_train = 'C:/Users/sonya/PythonProjects/image_classifier/input/test'\n",
    "count_class_names = 0\n",
    "test_percent = 0.15\n",
    "validation_percent = 0.15\n",
    "\n",
    "for directory_name in os.listdir(directory_train):\n",
    "    folder = os.path.join(directory_train, directory_name)\n",
    "    len_folder = len(os.listdir(folder))\n",
    "    image_count = 0\n",
    "    validation_count = 0\n",
    "    for image_name in os.listdir(folder):\n",
    "        image_path = folder + '/' + image_name\n",
    "        try:            \n",
    "            if (image_count <= test_percent * len_folder):\n",
    "                image_count += 1\n",
    "                test_images = np.insert(test_images, test_images.shape[0], prepare_image(image_path), axis=0)\n",
    "                test_labels = np.insert(test_labels, test_labels.shape[0], count_class_names)\n",
    "            elif (validation_count <= validation_percent * len_folder):\n",
    "                validation_count += 1\n",
    "                validation_images = np.insert(validation_images, validation_images.shape[0], prepare_image(image_path), axis=0)\n",
    "                validation_labels = np.insert(validation_labels, validation_labels.shape[0], count_class_names)\n",
    "            else:\n",
    "                train_images = np.insert(train_images, train_images.shape[0], prepare_image(image_path), axis=0)\n",
    "                train_labels = np.insert(train_labels, train_labels.shape[0], count_class_names)\n",
    "        except Exception as error:\n",
    "            print(image_path, error)\n",
    "            \n",
    "    count_class_names += 1"
   ]
  },
  {
   "cell_type": "code",
   "execution_count": 6,
   "id": "eed8283e",
   "metadata": {},
   "outputs": [
    {
     "name": "stdout",
     "output_type": "stream",
     "text": [
      "3\n"
     ]
    }
   ],
   "source": [
    "labels_count = max(train_labels) + 1\n",
    "print(labels_count)\n",
    "\n",
    "model = keras.Sequential([\n",
    "    keras.layers.Flatten(input_shape=(permission, permission)),\n",
    "    keras.layers.Dense(128, activation=tf.nn.relu),\n",
    "    keras.layers.Dense(64, activation=tf.nn.relu),\n",
    "    keras.layers.Dense(labels_count, activation=tf.nn.softmax)\n",
    "])\n",
    "\n",
    "model.compile(optimizer = tf.optimizers.Adam(), \n",
    "              loss = 'sparse_categorical_crossentropy',\n",
    "              metrics = ['accuracy'])"
   ]
  },
  {
   "cell_type": "code",
   "execution_count": 7,
   "id": "02c6f1c7",
   "metadata": {},
   "outputs": [
    {
     "name": "stdout",
     "output_type": "stream",
     "text": [
      "Epoch 1/5\n",
      "25/25 [==============================] - 1s 28ms/step - loss: 8.1348 - accuracy: 0.4008 - val_loss: 1.6504 - val_accuracy: 0.4826\n",
      "Epoch 2/5\n",
      "25/25 [==============================] - 1s 24ms/step - loss: 1.7737 - accuracy: 0.4475 - val_loss: 1.6252 - val_accuracy: 0.3779\n",
      "Epoch 3/5\n",
      "25/25 [==============================] - 1s 26ms/step - loss: 1.8197 - accuracy: 0.4425 - val_loss: 1.5131 - val_accuracy: 0.4012\n",
      "Epoch 4/5\n",
      "25/25 [==============================] - 1s 26ms/step - loss: 2.6870 - accuracy: 0.4210 - val_loss: 2.4729 - val_accuracy: 0.2558\n",
      "Epoch 5/5\n",
      "25/25 [==============================] - 1s 26ms/step - loss: 2.3368 - accuracy: 0.4614 - val_loss: 3.8874 - val_accuracy: 0.3605\n"
     ]
    },
    {
     "data": {
      "text/plain": [
       "<keras.callbacks.History at 0x2eacdafb1c0>"
      ]
     },
     "execution_count": 7,
     "metadata": {},
     "output_type": "execute_result"
    }
   ],
   "source": [
    "model.fit(train_images, \n",
    "          train_labels, \n",
    "          epochs = 5,\n",
    "          validation_data = (validation_images, validation_labels))\n",
    "          # steps_per_epoch = 100"
   ]
  },
  {
   "cell_type": "code",
   "execution_count": 8,
   "id": "b2760cbd",
   "metadata": {},
   "outputs": [
    {
     "name": "stdout",
     "output_type": "stream",
     "text": [
      "6/6 [==============================] - 0s 3ms/step - loss: 4.0137 - accuracy: 0.4128 \n",
      "Test accuracy: 0.4127906858921051\n"
     ]
    }
   ],
   "source": [
    "test_loss, test_acc = model.evaluate(test_images, test_labels)\n",
    "print('Test accuracy:', test_acc)"
   ]
  },
  {
   "cell_type": "code",
   "execution_count": 9,
   "id": "d4b7ce72",
   "metadata": {},
   "outputs": [
    {
     "name": "stdout",
     "output_type": "stream",
     "text": [
      "[[3.3600031e-06 9.0354049e-01 9.6456215e-02]]\n"
     ]
    }
   ],
   "source": [
    "predict_image_path = \"C:/Users/sonya/PythonProjects/image_classifier/input/wikiart-gangogh-creating-art-gan/animal-painting/11084f51062008cc8184b4b8a48ccd14c.jpg\"\n",
    "array_image = np.empty([0, permission, permission])\n",
    "array_image = np.insert(array_image, array_image.shape[0], prepare_image(predict_image_path), axis=0)\n",
    "predictions = model.predict(array_image)\n",
    "print(predictions)"
   ]
  },
  {
   "cell_type": "code",
   "execution_count": 10,
   "id": "f5b206c0",
   "metadata": {},
   "outputs": [],
   "source": [
    "image_size = (permission, permission)\n",
    "img_shape = image_size + (3, )\n",
    "base_model = tf.keras.applications.MobileNetV2(input_shape=img_shape,\n",
    "                                               include_top=False,\n",
    "                                               weights='imagenet')"
   ]
  },
  {
   "cell_type": "code",
   "execution_count": null,
   "id": "10fd79e6",
   "metadata": {},
   "outputs": [],
   "source": []
  },
  {
   "cell_type": "code",
   "execution_count": null,
   "id": "b4f926f5",
   "metadata": {},
   "outputs": [],
   "source": []
  }
 ],
 "metadata": {
  "kernelspec": {
   "display_name": "Python 3 (ipykernel)",
   "language": "python",
   "name": "python3"
  },
  "language_info": {
   "codemirror_mode": {
    "name": "ipython",
    "version": 3
   },
   "file_extension": ".py",
   "mimetype": "text/x-python",
   "name": "python",
   "nbconvert_exporter": "python",
   "pygments_lexer": "ipython3",
   "version": "3.9.7"
  }
 },
 "nbformat": 4,
 "nbformat_minor": 5
}
