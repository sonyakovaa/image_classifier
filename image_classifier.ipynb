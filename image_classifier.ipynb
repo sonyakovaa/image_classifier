{
 "cells": [
  {
   "cell_type": "code",
   "execution_count": 1,
   "id": "6574382d",
   "metadata": {},
   "outputs": [],
   "source": [
    "import os\n",
    "import shutil\n",
    "from PIL import Image"
   ]
  },
  {
   "cell_type": "code",
   "execution_count": 2,
   "id": "0ed664ee",
   "metadata": {},
   "outputs": [
    {
     "name": "stdout",
     "output_type": "stream",
     "text": [
      "abstract\n",
      "animal-painting\n",
      "cityscape\n",
      "C:/Users/sonya/PythonProjects/image_classifier/input/wikiart-gangogh-creating-art-gan/cityscape/26e4f3fba28d0e44337a3f3f904b1685c.jpg image file is truncated (54 bytes not processed)\n",
      "figurative\n",
      "flower-painting\n",
      "genre-painting\n",
      "landscape\n",
      "marina\n",
      "mythological-painting\n",
      "portrait\n",
      "religious-painting\n",
      "still-life\n",
      "symbolic-painting\n",
      "finish\n"
     ]
    }
   ],
   "source": [
    "INPUT_DIR = 'C:/Users/sonya/PythonProjects/image_classifier/input/wikiart-gangogh-creating-art-gan/'\n",
    "OUTPUT_DIR = 'C:/Users/sonya/PythonProjects/image_classifier/output'\n",
    "\n",
    "copy_percent = 0.2\n",
    "validation_percent = 0.2\n",
    "\n",
    "shutil.rmtree(OUTPUT_DIR)\n",
    "os.mkdir(OUTPUT_DIR)\n",
    "\n",
    "os.mkdir(OUTPUT_DIR + \"/train\")\n",
    "os.mkdir(OUTPUT_DIR + \"/validation\")\n",
    "\n",
    "for directory_name in os.listdir(INPUT_DIR):\n",
    "    os.mkdir(OUTPUT_DIR + '/train/' + directory_name)\n",
    "    os.mkdir(OUTPUT_DIR + '/validation/' + directory_name)\n",
    "    \n",
    "    folder = INPUT_DIR + directory_name\n",
    "    len_folder = len(os.listdir(folder))\n",
    "    print(directory_name)\n",
    "    \n",
    "    copy_count = 0\n",
    "    validation_count = 0\n",
    "    for image_name in os.listdir(folder):\n",
    "        image_path = folder + '/' + image_name            \n",
    "        if (copy_count <= copy_percent * len_folder):\n",
    "            try:\n",
    "                Image.open(image_path).convert('L')\n",
    "            except Exception as error:\n",
    "                print(image_path, error)\n",
    "            copy_count += 1\n",
    "            \n",
    "            if (validation_count <= validation_percent * len_folder * copy_percent):\n",
    "                shutil.copy(image_path, OUTPUT_DIR + '/validation/' + directory_name)\n",
    "                validation_count += 1\n",
    "            else:\n",
    "                shutil.copy(image_path, OUTPUT_DIR + '/train/' + directory_name)\n",
    "                \n",
    "print('finish')"
   ]
  },
  {
   "cell_type": "code",
   "execution_count": 4,
   "id": "24683a28",
   "metadata": {},
   "outputs": [
    {
     "name": "stdout",
     "output_type": "stream",
     "text": [
      "\u0007\n"
     ]
    }
   ],
   "source": [
    "print('\\a')"
   ]
  },
  {
   "cell_type": "code",
   "execution_count": null,
   "id": "e208c989",
   "metadata": {},
   "outputs": [],
   "source": []
  }
 ],
 "metadata": {
  "kernelspec": {
   "display_name": "Python 3 (ipykernel)",
   "language": "python",
   "name": "python3"
  },
  "language_info": {
   "codemirror_mode": {
    "name": "ipython",
    "version": 3
   },
   "file_extension": ".py",
   "mimetype": "text/x-python",
   "name": "python",
   "nbconvert_exporter": "python",
   "pygments_lexer": "ipython3",
   "version": "3.9.7"
  }
 },
 "nbformat": 4,
 "nbformat_minor": 5
}
